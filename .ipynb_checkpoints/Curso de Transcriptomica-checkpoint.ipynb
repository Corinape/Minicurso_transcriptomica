{
 "cells": [
  {
   "cell_type": "markdown",
   "id": "suburban-nancy",
   "metadata": {},
   "source": [
    "## Acerca del curso\n",
    "\n",
    "<p style=\"text-align: justify\">Obtener el transcriptoma consiste en secuenciar el ARNm total de un organismo bajo condiciones muy específicas. La transcriptómica es una de las herramientas más utilizadas hoy en día para encontrar respuestas a interrogantes biológicas sobre el estado de una célula encontrando aplicabilidad en todas las ramas de las ciencias biológicas. Sin embargo, para realizarla es necesario instruirse sobre la ejecución de programas bioinformáticos y tener comprensión sobre los conocimientos que involucra lidiar con datos de RNA-seq.\n",
    "En ese sentido, el presente curso fue pensado para entrenar investigadores con conocimientos bioinformáticos interesados en utilizar esta potente herramienta en sus trabajos.</p>\n",
    "\n",
    "\n",
    "\n",
    "## Objetivo\n",
    "\n",
    "<p style=\"text-align: justify\">Adiestrar al participante en métodos del análisis transcriptómico (por referencia), incluyendo el mapeo, recuento de secuencias, normalización y análisis de expresión diferencial.</p>\n",
    "\n",
    "\n",
    "## Numero de participantes\n",
    "\n",
    "12 Personas\n",
    "\n",
    "## Requisitos\n",
    "\n",
    "- Estudiantes de tercer año en adelante o posgrado.\n",
    "- Deseable que participen en un proyecto con la temática y tengan sus propios datos.\n",
    "- PC con sistema operativo Linux (Ubuntu u otro con arquitectura debían) o Windows 10 (<a href=\"https://docs.microsoft.com/en-us/windows/wsl/install-win10\">configurar Windows subsystem for Linux</a>). \n",
    "- Memoria interna libre: 50 Gb, RAM: min. 4 Gb. Procesador: Core i5 o equivalente.\n",
    "- Manejo de línea comandos en Linux y conocimientos en R.\n",
    "- Instalar la lista de programas a ser utilizados.\n",
    "\n",
    "\n",
    "## Cronograma de actividades\n",
    "\n",
    "| Horario  |  Presentador  |  Actividad | Programas a utilizar |\n",
    "|:----------:|:-------------:|:-----------:|:---------------------:|\n",
    "|09:00 am-9:30 am |Carlo Gustavo Mormontoy|Presentación e introducción al curso.|-|\n",
    "|9:30 am - 10:00 am |-|Revisión de programas y soporte de instalación|-|\n",
    "|10:00 am - 12:00 pm|Francisco Ascue|Bloque I: Análisis de secuencias: mapeo, recuento y ensamblaje.|STAR, featureCounts, SortMeRNA, Samtools|\n",
    "|12:00 pm - 1:30 pm|-|Almuerzo|-|\n",
    "|1:30 pm - 3:30 pm|Carlo Gustavo Mormontoy|Bloque II: Normalización y expresión diferencial.|DEseq2, Vennt, EnhancedVolcano|\n",
    "|3:30 pm - 4:30 pm|Carlo Gustavo Mormontoy|Bloque III: Anotación funcional y enriquecimiento.|Blast2GO, Cytoscape (BiNGO)|\n",
    "\n",
    "\n",
    "## Sofwares y pacquetes\n",
    "\n",
    "DEseq2: https://bioconductor.org/packages/release/bioc/html/DESeq2.html   \n",
    "Vennt: https://github.com/drpowell/vennt  \n",
    "EnhancedVolcano: https://github.com/kevinblighe/EnhancedVolcano   \n",
    "Blast2GO: https://www.blast2go.com/ (Free Trial)   \n",
    "Cytoscape: https://cytoscape.org/   \n",
    "BiNGO: https://www.psb.ugent.be/cbd/papers/BiNGO/Home.html   \n",
    "\n"
   ]
  }
 ],
 "metadata": {
  "kernelspec": {
   "display_name": "Bash",
   "language": "bash",
   "name": "bash"
  },
  "language_info": {
   "codemirror_mode": "shell",
   "file_extension": ".sh",
   "mimetype": "text/x-sh",
   "name": "bash"
  }
 },
 "nbformat": 4,
 "nbformat_minor": 5
}
